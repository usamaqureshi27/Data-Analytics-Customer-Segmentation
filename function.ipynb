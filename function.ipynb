{
 "cells": [
  {
   "cell_type": "code",
   "execution_count": 10,
   "metadata": {},
   "outputs": [],
   "source": [
    "import pandas as pd \n",
    "import numpy as np "
   ]
  },
  {
   "cell_type": "code",
   "execution_count": 1,
   "metadata": {},
   "outputs": [
    {
     "name": "stdout",
     "output_type": "stream",
     "text": [
      "15\n"
     ]
    }
   ],
   "source": [
    "def add_numbers(n1,n2):\n",
    "    result = n1+n2\n",
    "    return result\n",
    "\n",
    "number1 = 5\n",
    "number2 = 10\n",
    "\n",
    "sum = add_numbers(number1,number2)\n",
    "print(sum)"
   ]
  },
  {
   "cell_type": "markdown",
   "metadata": {},
   "source": [
    "Whenver a return statement in encountered in a function, the control of the function goes back to from where it is called. In above case, it goes to \"sum\" variable."
   ]
  },
  {
   "cell_type": "markdown",
   "metadata": {},
   "source": [
    "### Project"
   ]
  },
  {
   "cell_type": "markdown",
   "metadata": {},
   "source": [
    "Finding average marks and grade of all marks which are [55,64,75,80,65]"
   ]
  },
  {
   "cell_type": "code",
   "execution_count": 2,
   "metadata": {},
   "outputs": [],
   "source": [
    "marks = [55,64,75,80,65]"
   ]
  },
  {
   "cell_type": "code",
   "execution_count": 23,
   "metadata": {},
   "outputs": [
    {
     "ename": "TypeError",
     "evalue": "'int' object is not callable",
     "output_type": "error",
     "traceback": [
      "\u001b[1;31m---------------------------------------------------------------------------\u001b[0m",
      "\u001b[1;31mTypeError\u001b[0m                                 Traceback (most recent call last)",
      "Cell \u001b[1;32mIn[23], line 9\u001b[0m\n\u001b[0;32m      6\u001b[0m     average_marks \u001b[39m=\u001b[39m adittion \u001b[39m/\u001b[39m total_subjects\n\u001b[0;32m      7\u001b[0m     \u001b[39mreturn\u001b[39;00m average_marks\n\u001b[1;32m----> 9\u001b[0m average_marks \u001b[39m=\u001b[39m find_average_marks(marks)\n\u001b[0;32m     10\u001b[0m \u001b[39mprint\u001b[39m(\u001b[39m\"\u001b[39m\u001b[39mYour average marks is:\u001b[39m\u001b[39m\"\u001b[39m , average_marks)\n",
      "Cell \u001b[1;32mIn[23], line 4\u001b[0m, in \u001b[0;36mfind_average_marks\u001b[1;34m(marks)\u001b[0m\n\u001b[0;32m      3\u001b[0m \u001b[39mdef\u001b[39;00m \u001b[39mfind_average_marks\u001b[39m(marks):\n\u001b[1;32m----> 4\u001b[0m     adittion \u001b[39m=\u001b[39m \u001b[39msum\u001b[39;49m(marks)\n\u001b[0;32m      5\u001b[0m     total_subjects \u001b[39m=\u001b[39m \u001b[39mlen\u001b[39m(marks)\n\u001b[0;32m      6\u001b[0m     average_marks \u001b[39m=\u001b[39m adittion \u001b[39m/\u001b[39m total_subjects\n",
      "\u001b[1;31mTypeError\u001b[0m: 'int' object is not callable"
     ]
    }
   ],
   "source": [
    "# function to find average marks\n",
    "\n",
    "def find_average_marks(marks):\n",
    "    adittion = sum(marks)\n",
    "    total_subjects = len(marks)\n",
    "    average_marks = adittion / total_subjects\n",
    "    return average_marks\n",
    "\n",
    "average_marks = find_average_marks(marks)\n",
    "print(\"Your average marks is:\" , average_marks)\n",
    "    "
   ]
  },
  {
   "cell_type": "code",
   "execution_count": 24,
   "metadata": {},
   "outputs": [
    {
     "ename": "NameError",
     "evalue": "name 'average_marks' is not defined",
     "output_type": "error",
     "traceback": [
      "\u001b[1;31m---------------------------------------------------------------------------\u001b[0m",
      "\u001b[1;31mNameError\u001b[0m                                 Traceback (most recent call last)",
      "Cell \u001b[1;32mIn[24], line 14\u001b[0m\n\u001b[0;32m     11\u001b[0m         grade \u001b[39m=\u001b[39m \u001b[39m'\u001b[39m\u001b[39mF\u001b[39m\u001b[39m'\u001b[39m\n\u001b[0;32m     12\u001b[0m     \u001b[39mreturn\u001b[39;00m grade\n\u001b[1;32m---> 14\u001b[0m grade \u001b[39m=\u001b[39m compute_grade(average_marks)\n\u001b[0;32m     15\u001b[0m \u001b[39mprint\u001b[39m (grade)\n",
      "\u001b[1;31mNameError\u001b[0m: name 'average_marks' is not defined"
     ]
    }
   ],
   "source": [
    "# calculate the grade function and show it\n",
    "\n",
    "def compute_grade(average_marks):\n",
    "    if average_marks >=80:\n",
    "        grade = 'A'\n",
    "    elif average_marks >=60:\n",
    "        grade = 'B'\n",
    "    elif average_marks >=50:\n",
    "        grade = 'C'\n",
    "    else:\n",
    "        grade = 'F'\n",
    "    return grade\n",
    "\n",
    "grade = compute_grade(average_marks)\n",
    "print (grade)\n",
    " "
   ]
  },
  {
   "cell_type": "code",
   "execution_count": null,
   "metadata": {},
   "outputs": [],
   "source": []
  }
 ],
 "metadata": {
  "kernelspec": {
   "display_name": "Python 3",
   "language": "python",
   "name": "python3"
  },
  "language_info": {
   "codemirror_mode": {
    "name": "ipython",
    "version": 3
   },
   "file_extension": ".py",
   "mimetype": "text/x-python",
   "name": "python",
   "nbconvert_exporter": "python",
   "pygments_lexer": "ipython3",
   "version": "3.10.11"
  },
  "orig_nbformat": 4
 },
 "nbformat": 4,
 "nbformat_minor": 2
}
